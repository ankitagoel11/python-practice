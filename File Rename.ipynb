{
 "cells": [
  {
   "cell_type": "code",
   "execution_count": 1,
   "metadata": {},
   "outputs": [],
   "source": [
    "from glob import glob\n",
    "from os import rename\n"
   ]
  },
  {
   "cell_type": "code",
   "execution_count": 8,
   "metadata": {},
   "outputs": [],
   "source": [
    "import os\n",
    "\n",
    "import os  \n",
    "os.rename('name_changed','NAME_Changed') \n",
    "   \n",
    "\n",
    "path = 'NAME_changed'\n",
    "files = os.listdir(path)\n",
    "\n",
    "path2 = ''\n",
    "\n",
    "\n",
    "\n",
    "for file in files:\n",
    "    print (os.path.join(path, file))\n",
    "    print (file)\n",
    "    os.rename(os.path.join(path, file), os.path.join(path, file.replace(\"t\", \"a\")))\n",
    "    print (os.path.join(path, file))\n",
    "  \n"
   ]
  },
  {
   "cell_type": "code",
   "execution_count": null,
   "metadata": {},
   "outputs": [],
   "source": []
  }
 ],
 "metadata": {
  "kernelspec": {
   "display_name": "Python [conda env:PythonData]",
   "language": "python",
   "name": "conda-env-PythonData-py"
  },
  "language_info": {
   "codemirror_mode": {
    "name": "ipython",
    "version": 3
   },
   "file_extension": ".py",
   "mimetype": "text/x-python",
   "name": "python",
   "nbconvert_exporter": "python",
   "pygments_lexer": "ipython3",
   "version": "3.6.4"
  }
 },
 "nbformat": 4,
 "nbformat_minor": 2
}
