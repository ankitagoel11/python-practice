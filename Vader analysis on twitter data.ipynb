{
 "cells": [
  {
   "cell_type": "code",
   "execution_count": 1,
   "metadata": {},
   "outputs": [],
   "source": [
    "# Dependencies\n",
    "import tweepy\n",
    "import numpy as np\n",
    "\n",
    "# Import and Initialize Sentiment Analyzer\n",
    "from vaderSentiment.vaderSentiment import SentimentIntensityAnalyzer\n",
    "analyzer = SentimentIntensityAnalyzer()\n",
    "\n",
    "# Twitter API Keys\n",
    "from config import (consumer_key,\n",
    "                    consumer_secret,\n",
    "                    access_token,\n",
    "                    access_token_secret)\n",
    "\n",
    "# Setup Tweepy API Authentication\n",
    "auth = tweepy.OAuthHandler(consumer_key, consumer_secret)\n",
    "auth.set_access_token(access_token, access_token_secret)\n",
    "api = tweepy.API(auth, parser=tweepy.parsers.JSONParser())"
   ]
  },
  {
   "cell_type": "code",
   "execution_count": 13,
   "metadata": {},
   "outputs": [],
   "source": [
    "# Target User Account\n",
    "target_user = \"@DalaiLama\"\n",
    "\n",
    "# Variables for holding sentiments\n",
    "compound_list = []\n",
    "positive_list = []\n",
    "negative_list = []\n",
    "neutral_list = []\n",
    "results = []\n",
    "all_tweets = []\n",
    "# Loop through 10 pages of tweets (total 200 tweets)\n",
    "for x in range(1, 11):\n",
    "\n",
    "    # Get all tweets from home feed\n",
    "    public_tweets = api.user_timeline(target_user, page=x)\n",
    "    \n",
    "    # YOUR CODE HERE\n",
    "\n",
    "    # Loop through all tweets\n",
    "    for tweet in public_tweets:\n",
    "        \n",
    "        all_tweets.append(tweet['text'])\n",
    "        #results.append(analyzer.polarity_scores(tweet['text']))\n",
    "        #print (results)\n",
    "        #compound_list.append(results['compound'])\n",
    "        #positive_list.append(results['pos'])\n",
    "        #negative_list.append(results['neg'])\n",
    "\n",
    "#compound = results['compound']  \n",
    "#print (results)\n",
    "\n"
   ]
  },
  {
   "cell_type": "code",
   "execution_count": 23,
   "metadata": {},
   "outputs": [
    {
     "name": "stderr",
     "output_type": "stream",
     "text": [
      "IOPub data rate exceeded.\n",
      "The notebook server will temporarily stop sending output\n",
      "to the client in order to avoid crashing it.\n",
      "To change this limit, set the config variable\n",
      "`--NotebookApp.iopub_data_rate_limit`.\n",
      "\n",
      "Current values:\n",
      "NotebookApp.iopub_data_rate_limit=1000000.0 (bytes/sec)\n",
      "NotebookApp.rate_limit_window=3.0 (secs)\n",
      "\n"
     ]
    }
   ],
   "source": [
    "#print (all_tweets)\n",
    "\n",
    "for a in all_tweets:\n",
    "    results.append(analyzer.polarity_scores(a))\n",
    "    print(results)\n",
    "    \n",
    "for result in results:  \n",
    "    compound = result[\"compound\"]\n",
    "    pos = result[\"pos\"]\n",
    "    neu = result[\"neu\"]\n",
    "    neg = result[\"neg\"]\n",
    "    \n",
    "    compound_list.append(compound)\n",
    "    positive_list.append(pos)\n",
    "    negative_list.append(neg)\n",
    "    neutral_list.append(neu)"
   ]
  },
  {
   "cell_type": "code",
   "execution_count": null,
   "metadata": {},
   "outputs": [],
   "source": [
    "# Print the Averages\n",
    "print(f\"User: {target_user}\")\n",
    "print(f\"Compound: {np.mean(compound_list):.3f}\")\n",
    "print(f\"Positive: {np.mean(positive_list):.3f}\")\n",
    "print(f\"Neutral: {np.mean(neutral_list):.3f}\")\n",
    "print(f\"Negative: {np.mean(negative_list):.3f}\")"
   ]
  }
 ],
 "metadata": {
  "kernelspec": {
   "display_name": "Python [default]",
   "language": "python",
   "name": "python3"
  },
  "language_info": {
   "codemirror_mode": {
    "name": "ipython",
    "version": 3
   },
   "file_extension": ".py",
   "mimetype": "text/x-python",
   "name": "python",
   "nbconvert_exporter": "python",
   "pygments_lexer": "ipython3",
   "version": "3.6.4"
  },
  "varInspector": {
   "cols": {
    "lenName": 16,
    "lenType": 16,
    "lenVar": 40
   },
   "kernels_config": {
    "python": {
     "delete_cmd_postfix": "",
     "delete_cmd_prefix": "del ",
     "library": "var_list.py",
     "varRefreshCmd": "print(var_dic_list())"
    },
    "r": {
     "delete_cmd_postfix": ") ",
     "delete_cmd_prefix": "rm(",
     "library": "var_list.r",
     "varRefreshCmd": "cat(var_dic_list()) "
    }
   },
   "types_to_exclude": [
    "module",
    "function",
    "builtin_function_or_method",
    "instance",
    "_Feature"
   ],
   "window_display": false
  }
 },
 "nbformat": 4,
 "nbformat_minor": 2
}
