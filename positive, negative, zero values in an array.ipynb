{
 "cells": [
  {
   "cell_type": "markdown",
   "metadata": {},
   "source": [
    "# check ratio of number of positive, negative and zero values in an array"
   ]
  },
  {
   "cell_type": "code",
   "execution_count": 6,
   "metadata": {},
   "outputs": [],
   "source": [
    "def plusMinus(arr):\n",
    "    positive_numbers = 0\n",
    "    negative_numbers = 0\n",
    "    zero_numbers = 0\n",
    "    for i in arr:\n",
    "        if i > 0:\n",
    "            positive_numbers +=1\n",
    "    for i in arr:\n",
    "        if i < 0:\n",
    "            negative_numbers +=1\n",
    "    for i in arr:\n",
    "        if i == 0:\n",
    "            zero_numbers +=1\n",
    "    array_size = len(arr)\n",
    "    positive_ratio = positive_numbers/array_size\n",
    "    negative_ratio = negative_numbers/array_size\n",
    "    zero_ratio = zero_numbers/array_size   \n",
    "    print (f\"Positive numbers ratio: {positive_ratio}\")\n",
    "    print (f\"Negative numbers ratio: {negative_ratio}\")\n",
    "    print (f\"Zero Numbers ratio: {zero_ratio}\")"
   ]
  },
  {
   "cell_type": "code",
   "execution_count": 7,
   "metadata": {},
   "outputs": [
    {
     "name": "stdout",
     "output_type": "stream",
     "text": [
      "Positive numbers ratio: 0.5\n",
      "Negative numbers ratio: 0.3333333333333333\n",
      "Zero Numbers ratio: 0.16666666666666666\n"
     ]
    }
   ],
   "source": [
    "plusMinus ([1,2,4,0,-4,-3])"
   ]
  },
  {
   "cell_type": "code",
   "execution_count": null,
   "metadata": {},
   "outputs": [],
   "source": []
  }
 ],
 "metadata": {
  "kernelspec": {
   "display_name": "Python [conda env:PythonData]",
   "language": "python",
   "name": "conda-env-PythonData-py"
  },
  "language_info": {
   "codemirror_mode": {
    "name": "ipython",
    "version": 3
   },
   "file_extension": ".py",
   "mimetype": "text/x-python",
   "name": "python",
   "nbconvert_exporter": "python",
   "pygments_lexer": "ipython3",
   "version": "3.6.4"
  }
 },
 "nbformat": 4,
 "nbformat_minor": 2
}
