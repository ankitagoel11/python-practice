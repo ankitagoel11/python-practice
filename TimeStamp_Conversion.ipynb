{
 "cells": [
  {
   "cell_type": "code",
   "execution_count": 72,
   "metadata": {},
   "outputs": [],
   "source": [
    "import pandas as pd\n",
    "import datetime as dt"
   ]
  },
  {
   "cell_type": "code",
   "execution_count": 92,
   "metadata": {},
   "outputs": [],
   "source": [
    "sample_file  = pd.read_excel(\"Book2.xlsx\")\n"
   ]
  },
  {
   "cell_type": "code",
   "execution_count": 93,
   "metadata": {},
   "outputs": [
    {
     "data": {
      "text/html": [
       "<div>\n",
       "<style scoped>\n",
       "    .dataframe tbody tr th:only-of-type {\n",
       "        vertical-align: middle;\n",
       "    }\n",
       "\n",
       "    .dataframe tbody tr th {\n",
       "        vertical-align: top;\n",
       "    }\n",
       "\n",
       "    .dataframe thead th {\n",
       "        text-align: right;\n",
       "    }\n",
       "</style>\n",
       "<table border=\"1\" class=\"dataframe\">\n",
       "  <thead>\n",
       "    <tr style=\"text-align: right;\">\n",
       "      <th></th>\n",
       "      <th>Timestamp</th>\n",
       "    </tr>\n",
       "  </thead>\n",
       "  <tbody>\n",
       "    <tr>\n",
       "      <th>0</th>\n",
       "      <td>2018-02-01T00:00:00-08:00 Los_Angeles</td>\n",
       "    </tr>\n",
       "    <tr>\n",
       "      <th>1</th>\n",
       "      <td>2018-02-01T01:00:00-08:00 Los_Angeles</td>\n",
       "    </tr>\n",
       "    <tr>\n",
       "      <th>2</th>\n",
       "      <td>2018-02-01T02:00:00-08:00 Los_Angeles</td>\n",
       "    </tr>\n",
       "    <tr>\n",
       "      <th>3</th>\n",
       "      <td>2018-02-01T03:00:00-08:00 Los_Angeles</td>\n",
       "    </tr>\n",
       "    <tr>\n",
       "      <th>4</th>\n",
       "      <td>2018-02-01T04:00:00-08:00 Los_Angeles</td>\n",
       "    </tr>\n",
       "  </tbody>\n",
       "</table>\n",
       "</div>"
      ],
      "text/plain": [
       "                               Timestamp\n",
       "0  2018-02-01T00:00:00-08:00 Los_Angeles\n",
       "1  2018-02-01T01:00:00-08:00 Los_Angeles\n",
       "2  2018-02-01T02:00:00-08:00 Los_Angeles\n",
       "3  2018-02-01T03:00:00-08:00 Los_Angeles\n",
       "4  2018-02-01T04:00:00-08:00 Los_Angeles"
      ]
     },
     "execution_count": 93,
     "metadata": {},
     "output_type": "execute_result"
    }
   ],
   "source": [
    "sample_file.head()"
   ]
  },
  {
   "cell_type": "code",
   "execution_count": 97,
   "metadata": {},
   "outputs": [],
   "source": [
    "sample_file['new_timestamp'] = sample_file['Timestamp'].str.replace('-08:00 Los_Angeles', \"\")\n",
    "\n",
    "sample_file['new_ts_2'] = sample_file['new_timestamp'].str.replace('T', \" \")"
   ]
  },
  {
   "cell_type": "code",
   "execution_count": 99,
   "metadata": {},
   "outputs": [
    {
     "data": {
      "text/plain": [
       "Timestamp                object\n",
       "new_timestamp            object\n",
       "new_ts_2                 object\n",
       "timestamp_dt     datetime64[ns]\n",
       "dtype: object"
      ]
     },
     "execution_count": 99,
     "metadata": {},
     "output_type": "execute_result"
    }
   ],
   "source": [
    "\n",
    "\n",
    "sample_file['timestamp_dt'] = pd.to_datetime(sample_file['new_ts_2'])\n",
    "\n",
    "sample_file.dtypes"
   ]
  },
  {
   "cell_type": "code",
   "execution_count": 105,
   "metadata": {},
   "outputs": [
    {
     "data": {
      "text/html": [
       "<div>\n",
       "<style scoped>\n",
       "    .dataframe tbody tr th:only-of-type {\n",
       "        vertical-align: middle;\n",
       "    }\n",
       "\n",
       "    .dataframe tbody tr th {\n",
       "        vertical-align: top;\n",
       "    }\n",
       "\n",
       "    .dataframe thead th {\n",
       "        text-align: right;\n",
       "    }\n",
       "</style>\n",
       "<table border=\"1\" class=\"dataframe\">\n",
       "  <thead>\n",
       "    <tr style=\"text-align: right;\">\n",
       "      <th></th>\n",
       "      <th>Timestamp</th>\n",
       "      <th>new_timestamp</th>\n",
       "      <th>new_ts_2</th>\n",
       "      <th>timestamp_dt</th>\n",
       "      <th>final_timestamp</th>\n",
       "    </tr>\n",
       "  </thead>\n",
       "  <tbody>\n",
       "    <tr>\n",
       "      <th>0</th>\n",
       "      <td>2018-02-01T00:00:00-08:00 Los_Angeles</td>\n",
       "      <td>2018-02-01T00:00:00</td>\n",
       "      <td>2018-02-01 00:00:00</td>\n",
       "      <td>2018-02-01 00:00:00</td>\n",
       "      <td>02/01/2018 00:00</td>\n",
       "    </tr>\n",
       "    <tr>\n",
       "      <th>1</th>\n",
       "      <td>2018-02-01T01:00:00-08:00 Los_Angeles</td>\n",
       "      <td>2018-02-01T01:00:00</td>\n",
       "      <td>2018-02-01 01:00:00</td>\n",
       "      <td>2018-02-01 01:00:00</td>\n",
       "      <td>02/01/2018 01:00</td>\n",
       "    </tr>\n",
       "    <tr>\n",
       "      <th>2</th>\n",
       "      <td>2018-02-01T02:00:00-08:00 Los_Angeles</td>\n",
       "      <td>2018-02-01T02:00:00</td>\n",
       "      <td>2018-02-01 02:00:00</td>\n",
       "      <td>2018-02-01 02:00:00</td>\n",
       "      <td>02/01/2018 02:00</td>\n",
       "    </tr>\n",
       "    <tr>\n",
       "      <th>3</th>\n",
       "      <td>2018-02-01T03:00:00-08:00 Los_Angeles</td>\n",
       "      <td>2018-02-01T03:00:00</td>\n",
       "      <td>2018-02-01 03:00:00</td>\n",
       "      <td>2018-02-01 03:00:00</td>\n",
       "      <td>02/01/2018 03:00</td>\n",
       "    </tr>\n",
       "    <tr>\n",
       "      <th>4</th>\n",
       "      <td>2018-02-01T04:00:00-08:00 Los_Angeles</td>\n",
       "      <td>2018-02-01T04:00:00</td>\n",
       "      <td>2018-02-01 04:00:00</td>\n",
       "      <td>2018-02-01 04:00:00</td>\n",
       "      <td>02/01/2018 04:00</td>\n",
       "    </tr>\n",
       "  </tbody>\n",
       "</table>\n",
       "</div>"
      ],
      "text/plain": [
       "                               Timestamp        new_timestamp  \\\n",
       "0  2018-02-01T00:00:00-08:00 Los_Angeles  2018-02-01T00:00:00   \n",
       "1  2018-02-01T01:00:00-08:00 Los_Angeles  2018-02-01T01:00:00   \n",
       "2  2018-02-01T02:00:00-08:00 Los_Angeles  2018-02-01T02:00:00   \n",
       "3  2018-02-01T03:00:00-08:00 Los_Angeles  2018-02-01T03:00:00   \n",
       "4  2018-02-01T04:00:00-08:00 Los_Angeles  2018-02-01T04:00:00   \n",
       "\n",
       "              new_ts_2        timestamp_dt   final_timestamp  \n",
       "0  2018-02-01 00:00:00 2018-02-01 00:00:00  02/01/2018 00:00  \n",
       "1  2018-02-01 01:00:00 2018-02-01 01:00:00  02/01/2018 01:00  \n",
       "2  2018-02-01 02:00:00 2018-02-01 02:00:00  02/01/2018 02:00  \n",
       "3  2018-02-01 03:00:00 2018-02-01 03:00:00  02/01/2018 03:00  \n",
       "4  2018-02-01 04:00:00 2018-02-01 04:00:00  02/01/2018 04:00  "
      ]
     },
     "execution_count": 105,
     "metadata": {},
     "output_type": "execute_result"
    }
   ],
   "source": [
    "\n",
    "\n",
    "sample_file['final_timestamp'] = sample_file['timestamp_dt'].dt.strftime('%m/%d/%Y %H:%M')\n",
    "\n",
    "sample_file.head()"
   ]
  },
  {
   "cell_type": "code",
   "execution_count": 119,
   "metadata": {},
   "outputs": [],
   "source": [
    "sample_file.drop(labels=['new_timestamp', 'new_ts_2', 'timestamp_dt'], axis=1, inplace = True)"
   ]
  },
  {
   "cell_type": "code",
   "execution_count": 121,
   "metadata": {},
   "outputs": [
    {
     "data": {
      "text/html": [
       "<div>\n",
       "<style scoped>\n",
       "    .dataframe tbody tr th:only-of-type {\n",
       "        vertical-align: middle;\n",
       "    }\n",
       "\n",
       "    .dataframe tbody tr th {\n",
       "        vertical-align: top;\n",
       "    }\n",
       "\n",
       "    .dataframe thead th {\n",
       "        text-align: right;\n",
       "    }\n",
       "</style>\n",
       "<table border=\"1\" class=\"dataframe\">\n",
       "  <thead>\n",
       "    <tr style=\"text-align: right;\">\n",
       "      <th></th>\n",
       "      <th>Timestamp</th>\n",
       "      <th>final_timestamp</th>\n",
       "    </tr>\n",
       "  </thead>\n",
       "  <tbody>\n",
       "    <tr>\n",
       "      <th>0</th>\n",
       "      <td>2018-02-01T00:00:00-08:00 Los_Angeles</td>\n",
       "      <td>02/01/2018 00:00</td>\n",
       "    </tr>\n",
       "    <tr>\n",
       "      <th>1</th>\n",
       "      <td>2018-02-01T01:00:00-08:00 Los_Angeles</td>\n",
       "      <td>02/01/2018 01:00</td>\n",
       "    </tr>\n",
       "    <tr>\n",
       "      <th>2</th>\n",
       "      <td>2018-02-01T02:00:00-08:00 Los_Angeles</td>\n",
       "      <td>02/01/2018 02:00</td>\n",
       "    </tr>\n",
       "    <tr>\n",
       "      <th>3</th>\n",
       "      <td>2018-02-01T03:00:00-08:00 Los_Angeles</td>\n",
       "      <td>02/01/2018 03:00</td>\n",
       "    </tr>\n",
       "    <tr>\n",
       "      <th>4</th>\n",
       "      <td>2018-02-01T04:00:00-08:00 Los_Angeles</td>\n",
       "      <td>02/01/2018 04:00</td>\n",
       "    </tr>\n",
       "  </tbody>\n",
       "</table>\n",
       "</div>"
      ],
      "text/plain": [
       "                               Timestamp   final_timestamp\n",
       "0  2018-02-01T00:00:00-08:00 Los_Angeles  02/01/2018 00:00\n",
       "1  2018-02-01T01:00:00-08:00 Los_Angeles  02/01/2018 01:00\n",
       "2  2018-02-01T02:00:00-08:00 Los_Angeles  02/01/2018 02:00\n",
       "3  2018-02-01T03:00:00-08:00 Los_Angeles  02/01/2018 03:00\n",
       "4  2018-02-01T04:00:00-08:00 Los_Angeles  02/01/2018 04:00"
      ]
     },
     "execution_count": 121,
     "metadata": {},
     "output_type": "execute_result"
    }
   ],
   "source": [
    "sample_file.head()"
   ]
  },
  {
   "cell_type": "code",
   "execution_count": 125,
   "metadata": {},
   "outputs": [],
   "source": [
    "\n",
    "sample_file.to_excel(\"Formatted_file_2.xlsx\", index=False)"
   ]
  },
  {
   "cell_type": "code",
   "execution_count": null,
   "metadata": {},
   "outputs": [],
   "source": []
  }
 ],
 "metadata": {
  "kernelspec": {
   "display_name": "Python [conda env:PythonData]",
   "language": "python",
   "name": "conda-env-PythonData-py"
  },
  "language_info": {
   "codemirror_mode": {
    "name": "ipython",
    "version": 3
   },
   "file_extension": ".py",
   "mimetype": "text/x-python",
   "name": "python",
   "nbconvert_exporter": "python",
   "pygments_lexer": "ipython3",
   "version": "3.6.4"
  }
 },
 "nbformat": 4,
 "nbformat_minor": 2
}
