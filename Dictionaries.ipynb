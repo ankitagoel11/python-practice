{
 "cells": [
  {
   "cell_type": "code",
   "execution_count": 3,
   "metadata": {},
   "outputs": [],
   "source": [
    "words = [\"PoGo\",\"Spange\",\"Lie-Fi\"]\n",
    "definitions = [\"Slang for Pokemon Go\",\"To collect spare change, either from couches, passerbys on the street or any numerous other ways and means\",\"When your phone or tablet indicates that you are connected to a wireless network, however you are still unable to load webpages or use any internet services with your device\"] \n",
    "\n",
    "cooldictionary = {}\n",
    "\n",
    "for i in range(0,3):\n",
    "    cooldictionary[words[i]] = definitions[i]"
   ]
  },
  {
   "cell_type": "code",
   "execution_count": 5,
   "metadata": {},
   "outputs": [
    {
     "name": "stdout",
     "output_type": "stream",
     "text": [
      "{'PoGo': 'Slang for Pokemon Go', 'Spange': 'To collect spare change, either from couches, passerbys on the street or any numerous other ways and means', 'Lie-Fi': 'When your phone or tablet indicates that you are connected to a wireless network, however you are still unable to load webpages or use any internet services with your device'}\n"
     ]
    }
   ],
   "source": [
    "print (cooldictionary)"
   ]
  },
  {
   "cell_type": "code",
   "execution_count": null,
   "metadata": {},
   "outputs": [],
   "source": []
  }
 ],
 "metadata": {
  "kernelspec": {
   "display_name": "Python [conda env:PythonData]",
   "language": "python",
   "name": "conda-env-PythonData-py"
  },
  "language_info": {
   "codemirror_mode": {
    "name": "ipython",
    "version": 3
   },
   "file_extension": ".py",
   "mimetype": "text/x-python",
   "name": "python",
   "nbconvert_exporter": "python",
   "pygments_lexer": "ipython3",
   "version": "3.6.4"
  }
 },
 "nbformat": 4,
 "nbformat_minor": 2
}
