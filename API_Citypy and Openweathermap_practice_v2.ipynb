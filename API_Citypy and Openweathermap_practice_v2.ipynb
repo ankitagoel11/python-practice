{
 "cells": [
  {
   "cell_type": "code",
   "execution_count": 20,
   "metadata": {},
   "outputs": [],
   "source": [
    "from citipy import citipy\n",
    "from random import randint\n",
    "import openweathermapy.core as owm\n",
    "from config import api_key\n",
    "import matplotlib as plt\n",
    "import datetime\n",
    "now = datetime.datetime.now()\n",
    "date = str(now)[:10]\n",
    "\n"
   ]
  },
  {
   "cell_type": "code",
   "execution_count": 21,
   "metadata": {},
   "outputs": [
    {
     "name": "stdout",
     "output_type": "stream",
     "text": [
      "2018-04-04\n"
     ]
    }
   ],
   "source": [
    "def newpoint():\n",
    "   return randint(-180,180), randint(-90, 90)\n",
    "\n",
    "coordinates =[]\n",
    "\n",
    "points = (newpoint() for x in range(20))\n",
    "for point in points:\n",
    "   #print (point)\n",
    "   coordinates.append(point)\n",
    "print (date)"
   ]
  },
  {
   "cell_type": "code",
   "execution_count": 3,
   "metadata": {},
   "outputs": [],
   "source": [
    "cities = []\n",
    "for coordinate_pair in coordinates:\n",
    "    lat, lon = coordinate_pair\n",
    "    cities.append(citipy.nearest_city(lat, lon))\n"
   ]
  },
  {
   "cell_type": "code",
   "execution_count": 4,
   "metadata": {},
   "outputs": [],
   "source": [
    "city_names = []\n",
    "\n",
    "for city in cities:\n",
    "    country_code = city.country_code\n",
    "    name = city.city_name\n",
    "    city_names.append(name)\n",
    "    #print(f\"The country code of {name} is '{country_code}'.\")"
   ]
  },
  {
   "cell_type": "code",
   "execution_count": 5,
   "metadata": {},
   "outputs": [
    {
     "name": "stdout",
     "output_type": "stream",
     "text": [
      "Data for Aras is being processed and its City ID is 69559\n",
      "Data for Ushuaia is being processed and its City ID is 3833367\n",
      "Data for Bredasdorp is being processed and its City ID is 1015776\n",
      "Data for Qaanaaq is being processed and its City ID is 3831208\n",
      "Data for Port-Cartier is being processed and its City ID is 6111696\n",
      "Data for Eenhana is being processed and its City ID is 3357804\n",
      "Data for Longyearbyen is being processed and its City ID is 2729907\n",
      "Data for Port Alfred is being processed and its City ID is 964432\n",
      "Data for Qaanaaq is being processed and its City ID is 3831208\n",
      "Data for Castro is being processed and its City ID is 3896218\n",
      "Data for Shakiso is being processed and its City ID is 328716\n",
      "Data for Ushuaia is being processed and its City ID is 3833367\n",
      "Data for Longyearbyen is being processed and its City ID is 2729907\n",
      "Data for Ushuaia is being processed and its City ID is 3833367\n",
      "Data for Ushuaia is being processed and its City ID is 3833367\n",
      "Data for Port Alfred is being processed and its City ID is 964432\n",
      "Data for Marawi is being processed and its City ID is 1701054\n",
      "Data for Ushuaia is being processed and its City ID is 3833367\n",
      "Data for Bredasdorp is being processed and its City ID is 1015776\n",
      "Data for Upernavik is being processed and its City ID is 3418910\n",
      "0\n"
     ]
    }
   ],
   "source": [
    "settings = {\"units\": \"Imperial\",\"APPID\" : api_key}\n",
    "\n",
    "counter = 0\n",
    "citypy_list = []\n",
    "for a in city_names:\n",
    "    try:\n",
    "        data = owm.get_current(a, **settings)\n",
    "        citypy_list.append(data)\n",
    "        print (f\"Data for {data['name']} is being processed and its City ID is {data['id']}\")\n",
    "    except:\n",
    "        counter += 1\n",
    "\n",
    "print (counter)"
   ]
  },
  {
   "cell_type": "code",
   "execution_count": 6,
   "metadata": {},
   "outputs": [
    {
     "name": "stdout",
     "output_type": "stream",
     "text": [
      "20\n"
     ]
    }
   ],
   "source": [
    "print (len(citypy_list))"
   ]
  },
  {
   "cell_type": "code",
   "execution_count": 7,
   "metadata": {},
   "outputs": [
    {
     "name": "stdout",
     "output_type": "stream",
     "text": [
      "{'base': 'stations',\n",
      " 'clouds': {'all': 76},\n",
      " 'cod': 200,\n",
      " 'coord': {'lat': -34.53, 'lon': 20.04},\n",
      " 'dt': 1522868400,\n",
      " 'id': 1015776,\n",
      " 'main': {'humidity': 82,\n",
      "          'pressure': 1013,\n",
      "          'temp': 68,\n",
      "          'temp_max': 68,\n",
      "          'temp_min': 68},\n",
      " 'name': 'Bredasdorp',\n",
      " 'rain': {'3h': 0.195},\n",
      " 'sys': {'country': 'ZA',\n",
      "         'id': 6591,\n",
      "         'message': 0.0037,\n",
      "         'sunrise': 1522817708,\n",
      "         'sunset': 1522859372,\n",
      "         'type': 1},\n",
      " 'weather': [{'description': 'light rain',\n",
      "              'icon': '10n',\n",
      "              'id': 500,\n",
      "              'main': 'Rain'}],\n",
      " 'wind': {'deg': 130, 'speed': 1.12}}\n"
     ]
    }
   ],
   "source": [
    "import pprint\n",
    "pprint.pprint (citypy_list[2])"
   ]
  },
  {
   "cell_type": "code",
   "execution_count": 8,
   "metadata": {},
   "outputs": [
    {
     "data": {
      "text/html": [
       "<div>\n",
       "<style scoped>\n",
       "    .dataframe tbody tr th:only-of-type {\n",
       "        vertical-align: middle;\n",
       "    }\n",
       "\n",
       "    .dataframe tbody tr th {\n",
       "        vertical-align: top;\n",
       "    }\n",
       "\n",
       "    .dataframe thead th {\n",
       "        text-align: right;\n",
       "    }\n",
       "</style>\n",
       "<table border=\"1\" class=\"dataframe\">\n",
       "  <thead>\n",
       "    <tr style=\"text-align: right;\">\n",
       "      <th></th>\n",
       "      <th>City_Country</th>\n",
       "      <th>City_id</th>\n",
       "      <th>City_name</th>\n",
       "      <th>Cloudiness(%)</th>\n",
       "      <th>Humidity (%)</th>\n",
       "      <th>Latitude</th>\n",
       "      <th>Temperature</th>\n",
       "      <th>Wind_Speed</th>\n",
       "    </tr>\n",
       "  </thead>\n",
       "  <tbody>\n",
       "    <tr>\n",
       "      <th>0</th>\n",
       "      <td>YE</td>\n",
       "      <td>69559</td>\n",
       "      <td>Aras</td>\n",
       "      <td>12</td>\n",
       "      <td>85</td>\n",
       "      <td>14.28</td>\n",
       "      <td>46.65</td>\n",
       "      <td>2.39</td>\n",
       "    </tr>\n",
       "    <tr>\n",
       "      <th>1</th>\n",
       "      <td>AR</td>\n",
       "      <td>3833367</td>\n",
       "      <td>Ushuaia</td>\n",
       "      <td>75</td>\n",
       "      <td>70</td>\n",
       "      <td>-54.81</td>\n",
       "      <td>45.63</td>\n",
       "      <td>5.82</td>\n",
       "    </tr>\n",
       "    <tr>\n",
       "      <th>2</th>\n",
       "      <td>ZA</td>\n",
       "      <td>1015776</td>\n",
       "      <td>Bredasdorp</td>\n",
       "      <td>76</td>\n",
       "      <td>82</td>\n",
       "      <td>-34.53</td>\n",
       "      <td>68.00</td>\n",
       "      <td>1.12</td>\n",
       "    </tr>\n",
       "    <tr>\n",
       "      <th>3</th>\n",
       "      <td>GL</td>\n",
       "      <td>3831208</td>\n",
       "      <td>Qaanaaq</td>\n",
       "      <td>0</td>\n",
       "      <td>88</td>\n",
       "      <td>77.48</td>\n",
       "      <td>-6.82</td>\n",
       "      <td>10.78</td>\n",
       "    </tr>\n",
       "    <tr>\n",
       "      <th>4</th>\n",
       "      <td>CA</td>\n",
       "      <td>6111696</td>\n",
       "      <td>Port-Cartier</td>\n",
       "      <td>90</td>\n",
       "      <td>72</td>\n",
       "      <td>50.03</td>\n",
       "      <td>15.80</td>\n",
       "      <td>10.29</td>\n",
       "    </tr>\n",
       "  </tbody>\n",
       "</table>\n",
       "</div>"
      ],
      "text/plain": [
       "  City_Country  City_id     City_name  Cloudiness(%)  Humidity (%)  Latitude  \\\n",
       "0           YE    69559          Aras             12            85     14.28   \n",
       "1           AR  3833367       Ushuaia             75            70    -54.81   \n",
       "2           ZA  1015776    Bredasdorp             76            82    -34.53   \n",
       "3           GL  3831208       Qaanaaq              0            88     77.48   \n",
       "4           CA  6111696  Port-Cartier             90            72     50.03   \n",
       "\n",
       "   Temperature  Wind_Speed  \n",
       "0        46.65        2.39  \n",
       "1        45.63        5.82  \n",
       "2        68.00        1.12  \n",
       "3        -6.82       10.78  \n",
       "4        15.80       10.29  "
      ]
     },
     "execution_count": 8,
     "metadata": {},
     "output_type": "execute_result"
    }
   ],
   "source": [
    "import pandas as pd\n",
    "\n",
    "latitude = []\n",
    "humidity = []\n",
    "wind_speed = []\n",
    "temperature = []\n",
    "City_name = []\n",
    "City_Country = []\n",
    "Cloudiness = []\n",
    "City_id = []\n",
    "date = []\n",
    "\n",
    "# Temperature (F) vs. Latitude\n",
    "# Humidity (%) vs. Latitude\n",
    "# Cloudiness (%) vs. Latitude\n",
    "# Wind Speed (mph) vs. Latitude\n",
    "\n",
    "for a in citypy_list:\n",
    "    latitude.append(a['coord']['lat'])\n",
    "    humidity.append(a['main']['humidity'])\n",
    "    wind_speed.append(a['wind']['speed'])\n",
    "    temperature.append(a['main']['temp'])\n",
    "    City_name.append(a['name'])\n",
    "    City_Country.append(a['sys']['country'])\n",
    "    Cloudiness.append(a['clouds']['all'])\n",
    "    City_id.append(a['id'])\n",
    "    \n",
    "b = {'Latitude' : latitude, 'City_Country' : City_Country, 'Humidity (%)' : humidity, 'Temperature' : temperature, \n",
    "     'City_name' : City_name, 'Cloudiness(%)' : Cloudiness, 'Wind_Speed' : wind_speed, 'City_id' :City_id}\n",
    "#df.columns = ['City_id','latitude', 'humidity', 'wind_speed', 'temperature']\n",
    "\n",
    "City_data_df = pd.DataFrame(b)\n",
    "\n",
    "City_data_df.head()"
   ]
  },
  {
   "cell_type": "code",
   "execution_count": 9,
   "metadata": {},
   "outputs": [],
   "source": [
    "City_data_df.to_csv(\"City_data_output.csv\")"
   ]
  },
  {
   "cell_type": "code",
   "execution_count": 25,
   "metadata": {},
   "outputs": [
    {
     "name": "stdout",
     "output_type": "stream",
     "text": [
      "http://api.openweathermap.org/data/2.5/\n"
     ]
    }
   ],
   "source": [
    "print (owm.BASE_URL)"
   ]
  },
  {
   "cell_type": "code",
   "execution_count": 26,
   "metadata": {},
   "outputs": [
    {
     "data": {
      "image/png": "[encoded data removed]",
      "text/plain": [
       "<matplotlib.figure.Figure at 0x1d1bd4ff160>"
      ]
     },
     "metadata": {},
     "output_type": "display_data"
    }
   ],
   "source": [
    "import matplotlib.pyplot as plt\n",
    "plt.scatter(latitude, temperature)\n",
    "plt.grid()\n",
    "plt.show()"
   ]
  },
  {
   "cell_type": "code",
   "execution_count": 31,
   "metadata": {},
   "outputs": [
    {
     "data": {
      "image/png": "[encoded data removed]",
      "text/plain": [
       "<matplotlib.figure.Figure at 0x1d1bd53d630>"
      ]
     },
     "metadata": {},
     "output_type": "display_data"
    }
   ],
   "source": [
    "plt.scatter(latitude, humidity)\n",
    "plt.title( \"Latitude vs Humidity(%) \" + str(date) )\n",
    "plt.show()"
   ]
  },
  {
   "cell_type": "code",
   "execution_count": 32,
   "metadata": {},
   "outputs": [
    {
     "data": {
      "image/png": "[encoded data removed]",
      "text/plain": [
       "<matplotlib.figure.Figure at 0x1d1bd783860>"
      ]
     },
     "metadata": {},
     "output_type": "display_data"
    }
   ],
   "source": [
    "plt.scatter(latitude, wind_speed)\n",
    "plt.title( \"Latitude vs Wind Speed \" + str(date) )\n",
    "plt.grid()\n",
    "plt.show()"
   ]
  },
  {
   "cell_type": "code",
   "execution_count": 33,
   "metadata": {},
   "outputs": [
    {
     "data": {
      "image/png": "[encoded data removed]",
      "text/plain": [
       "<matplotlib.figure.Figure at 0x1d1bd7e9400>"
      ]
     },
     "metadata": {},
     "output_type": "display_data"
    }
   ],
   "source": [
    "plt.scatter(latitude, Cloudiness)\n",
    "plt.title( \"Latitude vs Cloudiness (%) \" + str(date) )\n",
    "plt.grid()\n",
    "plt.show()"
   ]
  },
  {
   "cell_type": "code",
   "execution_count": 22,
   "metadata": {},
   "outputs": [
    {
     "name": "stdout",
     "output_type": "stream",
     "text": [
      "2018-04-04\n"
     ]
    }
   ],
   "source": [
    "print (date)"
   ]
  },
  {
   "cell_type": "code",
   "execution_count": null,
   "metadata": {},
   "outputs": [],
   "source": []
  }
 ],
 "metadata": {
  "kernelspec": {
   "display_name": "Python [default]",
   "language": "python",
   "name": "python3"
  },
  "language_info": {
   "codemirror_mode": {
    "name": "ipython",
    "version": 3
   },
   "file_extension": ".py",
   "mimetype": "text/x-python",
   "name": "python",
   "nbconvert_exporter": "python",
   "pygments_lexer": "ipython3",
   "version": "3.6.4"
  }
 },
 "nbformat": 4,
 "nbformat_minor": 2
}
