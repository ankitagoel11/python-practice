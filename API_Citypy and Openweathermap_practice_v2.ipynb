{
 "cells": [
  {
   "cell_type": "code",
   "execution_count": 51,
   "metadata": {},
   "outputs": [],
   "source": [
    "from citipy import citipy\n",
    "from random import randint\n",
    "import openweathermapy.core as owm\n",
    "from config import api_key\n",
    "import matplotlib as plt"
   ]
  },
  {
   "cell_type": "code",
   "execution_count": 52,
   "metadata": {},
   "outputs": [],
   "source": [
    "def newpoint():\n",
    "   return randint(-180,180), randint(-1, 4)\n",
    "\n",
    "coordinates =[]\n",
    "\n",
    "points = (newpoint() for x in range(100))\n",
    "for point in points:\n",
    "   #print (point)\n",
    "   coordinates.append(point)\n"
   ]
  },
  {
   "cell_type": "code",
   "execution_count": 53,
   "metadata": {},
   "outputs": [],
   "source": [
    "cities = []\n",
    "for coordinate_pair in coordinates:\n",
    "    lat, lon = coordinate_pair\n",
    "    cities.append(citipy.nearest_city(lat, lon))\n"
   ]
  },
  {
   "cell_type": "code",
   "execution_count": 54,
   "metadata": {},
   "outputs": [],
   "source": [
    "city_names = []\n",
    "\n",
    "for city in cities:\n",
    "    country_code = city.country_code\n",
    "    name = city.city_name\n",
    "    city_names.append(name)\n",
    "    #print(f\"The country code of {name} is '{country_code}'.\")"
   ]
  },
  {
   "cell_type": "code",
   "execution_count": 55,
   "metadata": {},
   "outputs": [
    {
     "name": "stdout",
     "output_type": "stream",
     "text": [
      "36\n"
     ]
    }
   ],
   "source": [
    "settings = {\"units\": \"Imperial\",\"APPID\" : api_key}\n",
    "\n",
    "counter = 0\n",
    "citypy_list = []\n",
    "for a in city_names:\n",
    "    try:\n",
    "        data = owm.get_current(a, **settings)\n",
    "        citypy_list.append(data)\n",
    "    except:\n",
    "        counter += 1\n",
    "\n",
    "print (counter)"
   ]
  },
  {
   "cell_type": "code",
   "execution_count": 56,
   "metadata": {},
   "outputs": [
    {
     "name": "stdout",
     "output_type": "stream",
     "text": [
      "64\n"
     ]
    }
   ],
   "source": [
    "print (len(citypy_list))"
   ]
  },
  {
   "cell_type": "code",
   "execution_count": 57,
   "metadata": {},
   "outputs": [
    {
     "name": "stdout",
     "output_type": "stream",
     "text": [
      "{'base': 'stations',\n",
      " 'clouds': {'all': 0},\n",
      " 'cod': 200,\n",
      " 'coord': {'lat': -33.93, 'lon': 18.42},\n",
      " 'dt': 1522627200,\n",
      " 'id': 3369157,\n",
      " 'main': {'humidity': 82,\n",
      "          'pressure': 1009,\n",
      "          'temp': 64.4,\n",
      "          'temp_max': 64.4,\n",
      "          'temp_min': 64.4},\n",
      " 'name': 'Cape Town',\n",
      " 'sys': {'country': 'ZA',\n",
      "         'id': 6529,\n",
      "         'message': 0.0043,\n",
      "         'sunrise': 1522645151,\n",
      "         'sunset': 1522687205,\n",
      "         'type': 1},\n",
      " 'visibility': 10000,\n",
      " 'weather': [{'description': 'clear sky',\n",
      "              'icon': '01n',\n",
      "              'id': 800,\n",
      "              'main': 'Clear'}],\n",
      " 'wind': {'deg': 10, 'speed': 9.17}}\n"
     ]
    }
   ],
   "source": [
    "import pprint\n",
    "pprint.pprint (citypy_list[0])"
   ]
  },
  {
   "cell_type": "code",
   "execution_count": 58,
   "metadata": {},
   "outputs": [],
   "source": [
    "\n",
    "latitude = []\n",
    "humidity = []\n",
    "wind_speed = []\n",
    "temperature = []\n",
    "\n",
    "# Temperature (F) vs. Latitude\n",
    "# Humidity (%) vs. Latitude\n",
    "# Cloudiness (%) vs. Latitude\n",
    "# Wind Speed (mph) vs. Latitude\n",
    "\n",
    "for a in citypy_list:\n",
    "    latitude.append(a['coord']['lat'])\n",
    "    humidity.append(a['main']['humidity'])\n",
    "    wind_speed.append(a['wind']['speed'])\n",
    "    temperature.append(a['main']['temp'])\n",
    "    \n"
   ]
  },
  {
   "cell_type": "code",
   "execution_count": 59,
   "metadata": {},
   "outputs": [
    {
     "name": "stdout",
     "output_type": "stream",
     "text": [
      "http://api.openweathermap.org/data/2.5/\n"
     ]
    }
   ],
   "source": [
    "print (owm.BASE_URL)"
   ]
  },
  {
   "cell_type": "code",
   "execution_count": 60,
   "metadata": {},
   "outputs": [
    {
     "name": "stdout",
     "output_type": "stream",
     "text": [
      "[-33.93, -34.42, -34.42, -33.93, -34.42, -54.81, 53.7, 60.4, 20.2, 43.11, -33.93, -34.42, 45.89, -54.81, 41.42, 52.48, 36.27, 54.28, -34.42, -54.81, 4.89, -33.21, -34.42, 37.63, 27.87, -33.21, 61.6, -34.42, 20.2, -54.81, 20.2, 60.15, -34.42, -34.42, -34.53, -34.42, 54.28, -34.42, 16.28, 27.87, -34.42, -54.81, 4.92, -26.65, 60.4, -34.42, -34.42, -26.65, 5.35, -34.42, -26.65, -34.42, -54.81, -34.42, -34.42, -34.42, -34.42, -33.93, -34.42, -34.42, -33.93, -54.81, -33.21, -34.42]\n"
     ]
    }
   ],
   "source": [
    "print (latitude)"
   ]
  },
  {
   "cell_type": "code",
   "execution_count": 61,
   "metadata": {},
   "outputs": [
    {
     "name": "stdout",
     "output_type": "stream",
     "text": [
      "[82, 91, 91, 82, 91, 87, 86, 80, 25, 87, 82, 91, 61, 87, 61, 93, 58, 86, 91, 87, 100, 75, 91, 83, 18, 75, 92, 91, 25, 87, 25, 80, 91, 91, 93, 91, 86, 91, 32, 18, 91, 87, 92, 88, 80, 91, 91, 88, 79, 91, 88, 91, 87, 91, 91, 91, 91, 82, 91, 91, 82, 87, 75, 91]\n"
     ]
    }
   ],
   "source": [
    "print (humidity)"
   ]
  },
  {
   "cell_type": "code",
   "execution_count": 67,
   "metadata": {},
   "outputs": [
    {
     "data": {
      "image/png": "[encoded data removed]",
      "text/plain": [
       "<matplotlib.figure.Figure at 0x2cf30835dd8>"
      ]
     },
     "metadata": {},
     "output_type": "display_data"
    }
   ],
   "source": [
    "import matplotlib.pyplot as plt\n",
    "plt.scatter(latitude, temperature)\n",
    "plt.show()"
   ]
  },
  {
   "cell_type": "code",
   "execution_count": null,
   "metadata": {},
   "outputs": [],
   "source": []
  },
  {
   "cell_type": "code",
   "execution_count": null,
   "metadata": {},
   "outputs": [],
   "source": []
  }
 ],
 "metadata": {
  "kernelspec": {
   "display_name": "Python [conda env:PythonData]",
   "language": "python",
   "name": "conda-env-PythonData-py"
  },
  "language_info": {
   "codemirror_mode": {
    "name": "ipython",
    "version": 3
   },
   "file_extension": ".py",
   "mimetype": "text/x-python",
   "name": "python",
   "nbconvert_exporter": "python",
   "pygments_lexer": "ipython3",
   "version": "3.6.4"
  }
 },
 "nbformat": 4,
 "nbformat_minor": 2
}
