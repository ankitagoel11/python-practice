{
 "cells": [
  {
   "cell_type": "code",
   "execution_count": 65,
   "metadata": {},
   "outputs": [],
   "source": [
    "from citipy import citipy\n",
    "from random import randint\n",
    "import openweathermapy.core as owm\n",
    "from config import api_key\n",
    "import matplotlib as plt"
   ]
  },
  {
   "cell_type": "code",
   "execution_count": 101,
   "metadata": {},
   "outputs": [],
   "source": [
    "def newpoint():\n",
    "   return randint(-180,180), randint(-90, 90)\n",
    "\n",
    "coordinates =[]\n",
    "\n",
    "points = (newpoint() for x in range(20))\n",
    "for point in points:\n",
    "   #print (point)\n",
    "   coordinates.append(point)\n"
   ]
  },
  {
   "cell_type": "code",
   "execution_count": 102,
   "metadata": {},
   "outputs": [],
   "source": [
    "cities = []\n",
    "for coordinate_pair in coordinates:\n",
    "    lat, lon = coordinate_pair\n",
    "    cities.append(citipy.nearest_city(lat, lon))\n"
   ]
  },
  {
   "cell_type": "code",
   "execution_count": 103,
   "metadata": {},
   "outputs": [],
   "source": [
    "city_names = []\n",
    "\n",
    "for city in cities:\n",
    "    country_code = city.country_code\n",
    "    name = city.city_name\n",
    "    city_names.append(name)\n",
    "    #print(f\"The country code of {name} is '{country_code}'.\")"
   ]
  },
  {
   "cell_type": "code",
   "execution_count": 107,
   "metadata": {},
   "outputs": [
    {
     "name": "stdout",
     "output_type": "stream",
     "text": [
      "Data for Nanortalik is being processed and its City ID is 3421765\n",
      "Data for Conde is being processed and its City ID is 3465713\n",
      "Data for Lebu is being processed and its City ID is 344979\n",
      "Data for Port Alfred is being processed and its City ID is 964432\n",
      "Data for Port Alfred is being processed and its City ID is 964432\n",
      "Data for Dikson is being processed and its City ID is 1507390\n",
      "Data for Torbay is being processed and its City ID is 6167817\n",
      "Data for Ushuaia is being processed and its City ID is 3833367\n",
      "Data for Ushuaia is being processed and its City ID is 3833367\n",
      "Data for Chimbote is being processed and its City ID is 3698304\n",
      "Data for Saint-Philippe is being processed and its City ID is 6138908\n",
      "Data for Ushuaia is being processed and its City ID is 3833367\n",
      "Data for Sao Filipe is being processed and its City ID is 3374210\n",
      "Data for Ushuaia is being processed and its City ID is 3833367\n",
      "Data for Bredasdorp is being processed and its City ID is 1015776\n",
      "Data for Port Elizabeth is being processed and its City ID is 4501427\n",
      "4\n"
     ]
    }
   ],
   "source": [
    "settings = {\"units\": \"Imperial\",\"APPID\" : api_key}\n",
    "\n",
    "counter = 0\n",
    "citypy_list = []\n",
    "for a in city_names:\n",
    "    try:\n",
    "        data = owm.get_current(a, **settings)\n",
    "        citypy_list.append(data)\n",
    "        print (f\"Data for {data['name']} is being processed and its City ID is {data['id']}\")\n",
    "    except:\n",
    "        counter += 1\n",
    "\n",
    "print (counter)"
   ]
  },
  {
   "cell_type": "code",
   "execution_count": 92,
   "metadata": {},
   "outputs": [
    {
     "name": "stdout",
     "output_type": "stream",
     "text": [
      "339\n"
     ]
    }
   ],
   "source": [
    "print (len(citypy_list))"
   ]
  },
  {
   "cell_type": "code",
   "execution_count": 93,
   "metadata": {},
   "outputs": [
    {
     "name": "stdout",
     "output_type": "stream",
     "text": [
      "{'base': 'stations',\n",
      " 'clouds': {'all': 75},\n",
      " 'cod': 200,\n",
      " 'coord': {'lat': 42.65, 'lon': -73.75},\n",
      " 'dt': 1522709640,\n",
      " 'id': 5106834,\n",
      " 'main': {'humidity': 28,\n",
      "          'pressure': 1019,\n",
      "          'temp': 42.44,\n",
      "          'temp_max': 46.4,\n",
      "          'temp_min': 39.2},\n",
      " 'name': 'Albany',\n",
      " 'sys': {'country': 'US',\n",
      "         'id': 2088,\n",
      "         'message': 0.1649,\n",
      "         'sunrise': 1522665232,\n",
      "         'sunset': 1522711399,\n",
      "         'type': 1},\n",
      " 'visibility': 16093,\n",
      " 'weather': [{'description': 'broken clouds',\n",
      "              'icon': '04d',\n",
      "              'id': 803,\n",
      "              'main': 'Clouds'}],\n",
      " 'wind': {'deg': 300, 'speed': 9.17}}\n"
     ]
    }
   ],
   "source": [
    "import pprint\n",
    "pprint.pprint (citypy_list[2])"
   ]
  },
  {
   "cell_type": "code",
   "execution_count": 94,
   "metadata": {},
   "outputs": [
    {
     "data": {
      "text/html": [
       "<div>\n",
       "<style scoped>\n",
       "    .dataframe tbody tr th:only-of-type {\n",
       "        vertical-align: middle;\n",
       "    }\n",
       "\n",
       "    .dataframe tbody tr th {\n",
       "        vertical-align: top;\n",
       "    }\n",
       "\n",
       "    .dataframe thead th {\n",
       "        text-align: right;\n",
       "    }\n",
       "</style>\n",
       "<table border=\"1\" class=\"dataframe\">\n",
       "  <thead>\n",
       "    <tr style=\"text-align: right;\">\n",
       "      <th></th>\n",
       "      <th>City_Country</th>\n",
       "      <th>City_id</th>\n",
       "      <th>City_name</th>\n",
       "      <th>Cloudiness(%)</th>\n",
       "      <th>Humidity (%)</th>\n",
       "      <th>Latitude</th>\n",
       "      <th>Temperature</th>\n",
       "      <th>Wind_Speed</th>\n",
       "    </tr>\n",
       "  </thead>\n",
       "  <tbody>\n",
       "    <tr>\n",
       "      <th>0</th>\n",
       "      <td>GL</td>\n",
       "      <td>3418910</td>\n",
       "      <td>Upernavik</td>\n",
       "      <td>0</td>\n",
       "      <td>84</td>\n",
       "      <td>72.79</td>\n",
       "      <td>14.67</td>\n",
       "      <td>10.87</td>\n",
       "    </tr>\n",
       "    <tr>\n",
       "      <th>1</th>\n",
       "      <td>PT</td>\n",
       "      <td>2737599</td>\n",
       "      <td>Saldanha</td>\n",
       "      <td>44</td>\n",
       "      <td>80</td>\n",
       "      <td>41.42</td>\n",
       "      <td>49.95</td>\n",
       "      <td>14.12</td>\n",
       "    </tr>\n",
       "    <tr>\n",
       "      <th>2</th>\n",
       "      <td>US</td>\n",
       "      <td>5106834</td>\n",
       "      <td>Albany</td>\n",
       "      <td>75</td>\n",
       "      <td>28</td>\n",
       "      <td>42.65</td>\n",
       "      <td>42.44</td>\n",
       "      <td>9.17</td>\n",
       "    </tr>\n",
       "    <tr>\n",
       "      <th>3</th>\n",
       "      <td>BR</td>\n",
       "      <td>3471609</td>\n",
       "      <td>Areia Branca</td>\n",
       "      <td>20</td>\n",
       "      <td>69</td>\n",
       "      <td>-10.76</td>\n",
       "      <td>82.40</td>\n",
       "      <td>8.05</td>\n",
       "    </tr>\n",
       "    <tr>\n",
       "      <th>4</th>\n",
       "      <td>GL</td>\n",
       "      <td>3831208</td>\n",
       "      <td>Qaanaaq</td>\n",
       "      <td>0</td>\n",
       "      <td>74</td>\n",
       "      <td>77.48</td>\n",
       "      <td>-3.20</td>\n",
       "      <td>7.74</td>\n",
       "    </tr>\n",
       "  </tbody>\n",
       "</table>\n",
       "</div>"
      ],
      "text/plain": [
       "  City_Country  City_id     City_name  Cloudiness(%)  Humidity (%)  Latitude  \\\n",
       "0           GL  3418910     Upernavik              0            84     72.79   \n",
       "1           PT  2737599      Saldanha             44            80     41.42   \n",
       "2           US  5106834        Albany             75            28     42.65   \n",
       "3           BR  3471609  Areia Branca             20            69    -10.76   \n",
       "4           GL  3831208       Qaanaaq              0            74     77.48   \n",
       "\n",
       "   Temperature  Wind_Speed  \n",
       "0        14.67       10.87  \n",
       "1        49.95       14.12  \n",
       "2        42.44        9.17  \n",
       "3        82.40        8.05  \n",
       "4        -3.20        7.74  "
      ]
     },
     "execution_count": 94,
     "metadata": {},
     "output_type": "execute_result"
    }
   ],
   "source": [
    "import pandas as pd\n",
    "\n",
    "latitude = []\n",
    "humidity = []\n",
    "wind_speed = []\n",
    "temperature = []\n",
    "City_name = []\n",
    "City_Country = []\n",
    "Cloudiness = []\n",
    "City_id = []\n",
    "\n",
    "# Temperature (F) vs. Latitude\n",
    "# Humidity (%) vs. Latitude\n",
    "# Cloudiness (%) vs. Latitude\n",
    "# Wind Speed (mph) vs. Latitude\n",
    "\n",
    "for a in citypy_list:\n",
    "    latitude.append(a['coord']['lat'])\n",
    "    humidity.append(a['main']['humidity'])\n",
    "    wind_speed.append(a['wind']['speed'])\n",
    "    temperature.append(a['main']['temp'])\n",
    "    City_name.append(a['name'])\n",
    "    City_Country.append(a['sys']['country'])\n",
    "    Cloudiness.append(a['clouds']['all'])\n",
    "    City_id.append(a['id'])\n",
    "    \n",
    "b = {'Latitude' : latitude, 'City_Country' : City_Country, 'Humidity (%)' : humidity, 'Temperature' : temperature, \n",
    "     'City_name' : City_name, 'Cloudiness(%)' : Cloudiness, 'Wind_Speed' : wind_speed, 'City_id' :City_id}\n",
    "#df.columns = ['City_id','latitude', 'humidity', 'wind_speed', 'temperature']\n",
    "\n",
    "City_data_df = pd.DataFrame(b)\n",
    "\n",
    "City_data_df.head()"
   ]
  },
  {
   "cell_type": "code",
   "execution_count": 95,
   "metadata": {},
   "outputs": [],
   "source": [
    "City_data_df.to_csv(\"City_data_output.csv\")"
   ]
  },
  {
   "cell_type": "code",
   "execution_count": 96,
   "metadata": {},
   "outputs": [
    {
     "name": "stdout",
     "output_type": "stream",
     "text": [
      "http://api.openweathermap.org/data/2.5/\n"
     ]
    }
   ],
   "source": [
    "print (owm.BASE_URL)"
   ]
  },
  {
   "cell_type": "code",
   "execution_count": 99,
   "metadata": {},
   "outputs": [
    {
     "data": {
      "image/png": "[encoded data removed]",
      "text/plain": [
       "<matplotlib.figure.Figure at 0x1ecac797da0>"
      ]
     },
     "metadata": {},
     "output_type": "display_data"
    }
   ],
   "source": [
    "import matplotlib.pyplot as plt\n",
    "plt.scatter(latitude, temperature)\n",
    "plt.show()"
   ]
  },
  {
   "cell_type": "code",
   "execution_count": 100,
   "metadata": {},
   "outputs": [
    {
     "data": {
      "image/png": "[encoded data removed]",
      "text/plain": [
       "<matplotlib.figure.Figure at 0x1ecac7daef0>"
      ]
     },
     "metadata": {},
     "output_type": "display_data"
    }
   ],
   "source": [
    "plt.scatter(latitude, humidity)\n",
    "plt.show()"
   ]
  },
  {
   "cell_type": "code",
   "execution_count": null,
   "metadata": {},
   "outputs": [],
   "source": []
  }
 ],
 "metadata": {
  "kernelspec": {
   "display_name": "Python [conda env:PythonData]",
   "language": "python",
   "name": "conda-env-PythonData-py"
  },
  "language_info": {
   "codemirror_mode": {
    "name": "ipython",
    "version": 3
   },
   "file_extension": ".py",
   "mimetype": "text/x-python",
   "name": "python",
   "nbconvert_exporter": "python",
   "pygments_lexer": "ipython3",
   "version": "3.6.4"
  }
 },
 "nbformat": 4,
 "nbformat_minor": 2
}
